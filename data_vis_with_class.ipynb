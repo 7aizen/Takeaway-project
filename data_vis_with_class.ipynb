{
 "cells": [
  {
   "cell_type": "code",
   "execution_count": 1,
   "metadata": {},
   "outputs": [],
   "source": [
    "from uber_eats import UberEatsData"
   ]
  },
  {
   "cell_type": "code",
   "execution_count": 2,
   "metadata": {},
   "outputs": [],
   "source": [
    "new_data = UberEatsData() "
   ]
  },
  {
   "cell_type": "code",
   "execution_count": 3,
   "metadata": {},
   "outputs": [
    {
     "data": {
      "text/plain": [
       "['Monday', 'Tuesday', 'Wednesday', 'Thursday', 'Friday', 'Saturday', 'Sunday']"
      ]
     },
     "execution_count": 3,
     "metadata": {},
     "output_type": "execute_result"
    }
   ],
   "source": [
    "new_data.day_order"
   ]
  },
  {
   "cell_type": "code",
   "execution_count": 4,
   "metadata": {},
   "outputs": [
    {
     "data": {
      "text/plain": [
       "{'Order Price': [], 'Item Name': [], 'Order Time': []}"
      ]
     },
     "execution_count": 4,
     "metadata": {},
     "output_type": "execute_result"
    }
   ],
   "source": [
    "new_data.eater_data"
   ]
  },
  {
   "cell_type": "code",
   "execution_count": 5,
   "metadata": {},
   "outputs": [
    {
     "name": "stdout",
     "output_type": "stream",
     "text": [
      "List of column names :  ['Territory', 'Restaurant ID', 'Order ID', 'Order Time', 'Order Status', 'Item Name', 'Customizations', 'Special Instructions', 'Item Price', 'Order Price', 'Currency']\n"
     ]
    },
    {
     "data": {
      "text/plain": [
       "['Territory',\n",
       " 'Restaurant ID',\n",
       " 'Order ID',\n",
       " 'Order Time',\n",
       " 'Order Status',\n",
       " 'Item Name',\n",
       " 'Customizations',\n",
       " 'Special Instructions',\n",
       " 'Item Price',\n",
       " 'Order Price',\n",
       " 'Currency']"
      ]
     },
     "execution_count": 5,
     "metadata": {},
     "output_type": "execute_result"
    }
   ],
   "source": [
    "new_data.get_csv_columns('eats_orders_deets.csv')"
   ]
  },
  {
   "cell_type": "code",
   "execution_count": 5,
   "metadata": {},
   "outputs": [
    {
     "name": "stdout",
     "output_type": "stream",
     "text": [
      "<class 'dict'>\n",
      "{'Order Price': [14.61, 14.61, 14.61, 15.9, 15.9, 16.43, 16.43, 15.9, 15.9, 12.16, 12.16, 16.44, 16.44, 16.44, 16.44, 14.25, 14.25, 14.25, 14.25, 8.33, 8.33, 8.33, 8.8, 8.8, 8.8, 10.8, 10.8, 10.8, 17.05, 17.05, 17.05, 12.1, 12.1, 16.59, 16.59, 14.07, 14.07, 8.58, 10.18, 11.99, 11.99, 8.32, 8.32, 8.88, 16.27, 16.27, 16.27, 16.27, 16.27, 16.27, 16.27, 16.27, 13.65, 13.65, 16.18, 16.18, 14.3, 14.3, 16.4, 16.4, 16.4, 18.12, 18.12, 14.08, 14.08, 14.08, 19.78, 19.78, 15.06, 15.06, 32.2, 32.2, 32.2, 32.2, 32.2, 12.74, 12.74, 12.74, 12.74, 18.19, 18.19, 18.19, 18.19, 12.29, 12.29, 14.32, 8.75, 8.75, 8.75], 'Item Name': ['25. Salt and Pepper Squid Large', 'L1. Sweet and Sour Chicken Hong Kong Style', 'M3 Salmon Maki Roll', 'Pork and Pate Banh Mi', 'Thai Milk Tea', 'Pork and Pate Banh Mi', 'Thai Milk Tea', 'Thai Milk Tea', 'Pork and Pate Banh Mi', 'Jerk Pork', 'Banana Cake', 'Thai Milk Tea', 'Pork and Pate Banh Mi', 'Pork and Pate Banh Mi', 'Thai Milk Tea', 'Pork and Pate Banh Mi', 'Thai Milk Tea', 'Lychee Fruit Tea', 'Pork and Pate Banh Mi', 'Latte', 'Swedish Meatball Hot Wrap', 'Lemon Cheesecake', 'Jerk Chicken', 'Patty', 'Plantain', 'Mac N Cheese', 'Jerk Pork', 'Jerk Wings', 'Matcha Milk Tea', 'Special Bao Bun (1 Piece)', 'Lychee Fruit Tea', 'Curry Goat', 'Peppered Steak', 'American breakfast ', 'Hash Brown', 'Matcha Milk Tea', 'Chicken Bao Bun (1 Piece)', 'Athenian Gyros Saver for One', 'Matcha Milk Tea', 'Salt And Chilli Pepper', 'Thai Green Curry ', 'Brown Sugar Matcha-Large', 'Peach Fruit tea-Large', 'Matcha Tapioca Milk', 'Dupiaza', 'Plain Pappadum ', 'Pilau Rice', 'Mango Chutney', 'Dupiaza', 'Plain Pappadum ', 'Pilau Rice', 'Mango Chutney', 'Jerk Pork', 'Jerk Chicken', 'Crispy belly pork with rice and pak choi', 'Crispy Shredded Beef', 'Jerk Pork', 'Jerk Wings', 'Double Sausage and Egg McMuffin®', 'Sausage and Egg McMuffin®', 'Sausage and Egg McMuffin®', 'Combo Meal Deal (with rice and peas)', 'Fried Chicken', 'Chutney mango ', ' tikka Jalfrezi', 'Plain Poppadom', 'Spicy Chicken Ramen', 'Crunchy Chicken (Halal)', 'Classic Players', 'Classic Players', 'Special Fried Rice（羊饭）', 'Sesame Prawn on Toast (10 pieces）（芝麻虾）', 'Szechuan Beef（四川牛）', 'Deep Fried Squid with Chilli Salt & Pepper（椒盐鱿鱼）', 'Egg Fried Rice（蛋饭）', '98. Special Fried Rice', '86. Japanese Style Katsu Curry Sauce 8oz', 'U1 Salmon Avocado Roll', 'U1 Salmon Avocado Roll', '113. Beef Black Bean Ho Fun', '25. Salt and Pepper Squid Large', 'U1 Salmon Avocado Roll', 'U1 Salmon Avocado Roll', 'Salmon Selection', 'Well Done Set', 'Your Daily Deal', 'Wrap of the day: The BBQ & Bacon Chicken One (Crispy)', 'Small Fanta® Orange', 'Cheeseburger'], 'Order Time': ['2024-05-30 16:54:46 +0000 UTC', '2024-05-30 16:54:46 +0000 UTC', '2024-05-30 16:54:46 +0000 UTC', '2024-05-29 12:44:30 +0000 UTC', '2024-05-29 12:44:30 +0000 UTC', '2024-05-10 13:12:52 +0000 UTC', '2024-05-10 13:12:52 +0000 UTC', '2024-05-02 13:46:50 +0000 UTC', '2024-05-02 13:46:50 +0000 UTC', '2024-04-29 13:29:07 +0000 UTC', '2024-04-29 13:29:07 +0000 UTC', '2024-03-29 16:34:30 +0000 UTC', '2024-03-29 16:34:30 +0000 UTC', '2024-03-16 16:56:56 +0000 UTC', '2024-03-16 16:56:56 +0000 UTC', '2024-02-20 15:58:11 +0000 UTC', '2024-02-20 15:58:11 +0000 UTC', '2024-02-19 13:49:41 +0000 UTC', '2024-02-19 13:49:41 +0000 UTC', '2024-01-26 14:55:44 +0000 UTC', '2024-01-26 14:55:44 +0000 UTC', '2024-01-26 14:55:44 +0000 UTC', '2024-01-17 14:49:36 +0000 UTC', '2024-01-17 14:49:36 +0000 UTC', '2024-01-17 14:49:36 +0000 UTC', '2024-01-09 14:38:14 +0000 UTC', '2024-01-09 14:38:14 +0000 UTC', '2024-01-09 14:38:14 +0000 UTC', '2023-12-15 17:09:38 +0000 UTC', '2023-12-15 17:09:38 +0000 UTC', '2023-12-15 17:09:38 +0000 UTC', '2023-12-08 16:17:26 +0000 UTC', '2023-12-08 16:17:26 +0000 UTC', '2023-12-06 12:36:37 +0000 UTC', '2023-12-06 12:36:37 +0000 UTC', '2023-12-04 16:49:46 +0000 UTC', '2023-12-04 16:49:46 +0000 UTC', '2023-12-02 14:01:10 +0000 UTC', '2023-11-29 15:54:43 +0000 UTC', '2023-11-28 14:01:07 +0000 UTC', '2023-11-28 14:01:07 +0000 UTC', '2023-11-25 14:52:22 +0000 UTC', '2023-11-25 14:52:22 +0000 UTC', '2023-11-24 16:44:08 +0000 UTC', '2023-11-24 20:27:22 +0000 UTC', '2023-11-24 20:27:22 +0000 UTC', '2023-11-24 20:27:22 +0000 UTC', '2023-11-24 20:27:22 +0000 UTC', '2023-11-23 19:58:38 +0000 UTC', '2023-11-23 19:58:38 +0000 UTC', '2023-11-23 19:58:38 +0000 UTC', '2023-11-23 19:58:38 +0000 UTC', '2023-11-21 13:29:33 +0000 UTC', '2023-11-21 13:29:33 +0000 UTC', '2023-11-19 14:54:30 +0000 UTC', '2023-11-19 14:54:30 +0000 UTC', '2023-11-17 14:08:39 +0000 UTC', '2023-11-17 14:08:39 +0000 UTC', '2023-11-11 11:35:20 +0000 UTC', '2023-11-11 11:35:20 +0000 UTC', '2023-11-11 11:35:20 +0000 UTC', '2023-11-07 16:49:01 +0000 UTC', '2023-11-07 16:49:01 +0000 UTC', '2023-10-23 19:16:00 +0000 UTC', '2023-10-23 19:16:00 +0000 UTC', '2023-10-23 19:16:00 +0000 UTC', '2023-10-13 13:06:32 +0000 UTC', '2023-10-13 13:06:32 +0000 UTC', '2023-02-20 20:34:15 +0000 UTC', '2023-02-20 20:34:15 +0000 UTC', '2023-01-13 16:54:19 +0000 UTC', '2023-01-13 16:54:19 +0000 UTC', '2023-01-13 16:54:19 +0000 UTC', '2023-01-13 16:54:19 +0000 UTC', '2023-01-13 16:54:19 +0000 UTC', '2022-12-13 21:09:17 +0000 UTC', '2022-12-13 21:09:17 +0000 UTC', '2022-12-13 21:09:17 +0000 UTC', '2022-12-13 21:09:17 +0000 UTC', '2022-11-30 14:15:28 +0000 UTC', '2022-11-30 14:15:28 +0000 UTC', '2022-11-30 14:15:28 +0000 UTC', '2022-11-30 14:15:28 +0000 UTC', '2022-11-17 13:47:13 +0000 UTC', '2022-11-17 13:47:13 +0000 UTC', '2022-10-29 21:20:42 +0000 UTC', '2022-06-28 00:57:37 +0000 UTC', '2022-06-28 00:57:37 +0000 UTC', '2022-06-28 00:57:37 +0000 UTC']}\n"
     ]
    }
   ],
   "source": [
    "raw_data = new_data.open_file('eats_orders_deets.csv')\n",
    "print(type(raw_data))\n",
    "print(raw_data)"
   ]
  },
  {
   "cell_type": "code",
   "execution_count": 6,
   "metadata": {},
   "outputs": [
    {
     "data": {
      "text/plain": [
       "{'Order Price': [14.61,\n",
       "  14.61,\n",
       "  14.61,\n",
       "  15.9,\n",
       "  15.9,\n",
       "  16.43,\n",
       "  16.43,\n",
       "  15.9,\n",
       "  15.9,\n",
       "  12.16,\n",
       "  12.16,\n",
       "  16.44,\n",
       "  16.44,\n",
       "  16.44,\n",
       "  16.44,\n",
       "  14.25,\n",
       "  14.25,\n",
       "  14.25,\n",
       "  14.25,\n",
       "  8.33,\n",
       "  8.33,\n",
       "  8.33,\n",
       "  8.8,\n",
       "  8.8,\n",
       "  8.8,\n",
       "  10.8,\n",
       "  10.8,\n",
       "  10.8,\n",
       "  17.05,\n",
       "  17.05,\n",
       "  17.05,\n",
       "  12.1,\n",
       "  12.1,\n",
       "  16.59,\n",
       "  16.59,\n",
       "  14.07,\n",
       "  14.07,\n",
       "  8.58,\n",
       "  10.18,\n",
       "  11.99,\n",
       "  11.99,\n",
       "  8.32,\n",
       "  8.32,\n",
       "  8.88,\n",
       "  16.27,\n",
       "  16.27,\n",
       "  16.27,\n",
       "  16.27,\n",
       "  16.27,\n",
       "  16.27,\n",
       "  16.27,\n",
       "  16.27,\n",
       "  13.65,\n",
       "  13.65,\n",
       "  16.18,\n",
       "  16.18,\n",
       "  14.3,\n",
       "  14.3,\n",
       "  16.4,\n",
       "  16.4,\n",
       "  16.4,\n",
       "  18.12,\n",
       "  18.12,\n",
       "  14.08,\n",
       "  14.08,\n",
       "  14.08,\n",
       "  19.78,\n",
       "  19.78,\n",
       "  15.06,\n",
       "  15.06,\n",
       "  32.2,\n",
       "  32.2,\n",
       "  32.2,\n",
       "  32.2,\n",
       "  32.2,\n",
       "  12.74,\n",
       "  12.74,\n",
       "  12.74,\n",
       "  12.74,\n",
       "  18.19,\n",
       "  18.19,\n",
       "  18.19,\n",
       "  18.19,\n",
       "  12.29,\n",
       "  12.29,\n",
       "  14.32,\n",
       "  8.75,\n",
       "  8.75,\n",
       "  8.75],\n",
       " 'Item Name': ['25. Salt and Pepper Squid Large',\n",
       "  'L1. Sweet and Sour Chicken Hong Kong Style',\n",
       "  'M3 Salmon Maki Roll',\n",
       "  'Pork and Pate Banh Mi',\n",
       "  'Thai Milk Tea',\n",
       "  'Pork and Pate Banh Mi',\n",
       "  'Thai Milk Tea',\n",
       "  'Thai Milk Tea',\n",
       "  'Pork and Pate Banh Mi',\n",
       "  'Jerk Pork',\n",
       "  'Banana Cake',\n",
       "  'Thai Milk Tea',\n",
       "  'Pork and Pate Banh Mi',\n",
       "  'Pork and Pate Banh Mi',\n",
       "  'Thai Milk Tea',\n",
       "  'Pork and Pate Banh Mi',\n",
       "  'Thai Milk Tea',\n",
       "  'Lychee Fruit Tea',\n",
       "  'Pork and Pate Banh Mi',\n",
       "  'Latte',\n",
       "  'Swedish Meatball Hot Wrap',\n",
       "  'Lemon Cheesecake',\n",
       "  'Jerk Chicken',\n",
       "  'Patty',\n",
       "  'Plantain',\n",
       "  'Mac N Cheese',\n",
       "  'Jerk Pork',\n",
       "  'Jerk Wings',\n",
       "  'Matcha Milk Tea',\n",
       "  'Special Bao Bun (1 Piece)',\n",
       "  'Lychee Fruit Tea',\n",
       "  'Curry Goat',\n",
       "  'Peppered Steak',\n",
       "  'American breakfast ',\n",
       "  'Hash Brown',\n",
       "  'Matcha Milk Tea',\n",
       "  'Chicken Bao Bun (1 Piece)',\n",
       "  'Athenian Gyros Saver for One',\n",
       "  'Matcha Milk Tea',\n",
       "  'Salt And Chilli Pepper',\n",
       "  'Thai Green Curry ',\n",
       "  'Brown Sugar Matcha-Large',\n",
       "  'Peach Fruit tea-Large',\n",
       "  'Matcha Tapioca Milk',\n",
       "  'Dupiaza',\n",
       "  'Plain Pappadum ',\n",
       "  'Pilau Rice',\n",
       "  'Mango Chutney',\n",
       "  'Dupiaza',\n",
       "  'Plain Pappadum ',\n",
       "  'Pilau Rice',\n",
       "  'Mango Chutney',\n",
       "  'Jerk Pork',\n",
       "  'Jerk Chicken',\n",
       "  'Crispy belly pork with rice and pak choi',\n",
       "  'Crispy Shredded Beef',\n",
       "  'Jerk Pork',\n",
       "  'Jerk Wings',\n",
       "  'Double Sausage and Egg McMuffin®',\n",
       "  'Sausage and Egg McMuffin®',\n",
       "  'Sausage and Egg McMuffin®',\n",
       "  'Combo Meal Deal (with rice and peas)',\n",
       "  'Fried Chicken',\n",
       "  'Chutney mango ',\n",
       "  ' tikka Jalfrezi',\n",
       "  'Plain Poppadom',\n",
       "  'Spicy Chicken Ramen',\n",
       "  'Crunchy Chicken (Halal)',\n",
       "  'Classic Players',\n",
       "  'Classic Players',\n",
       "  'Special Fried Rice（羊饭）',\n",
       "  'Sesame Prawn on Toast (10 pieces）（芝麻虾）',\n",
       "  'Szechuan Beef（四川牛）',\n",
       "  'Deep Fried Squid with Chilli Salt & Pepper（椒盐鱿鱼）',\n",
       "  'Egg Fried Rice（蛋饭）',\n",
       "  '98. Special Fried Rice',\n",
       "  '86. Japanese Style Katsu Curry Sauce 8oz',\n",
       "  'U1 Salmon Avocado Roll',\n",
       "  'U1 Salmon Avocado Roll',\n",
       "  '113. Beef Black Bean Ho Fun',\n",
       "  '25. Salt and Pepper Squid Large',\n",
       "  'U1 Salmon Avocado Roll',\n",
       "  'U1 Salmon Avocado Roll',\n",
       "  'Salmon Selection',\n",
       "  'Well Done Set',\n",
       "  'Your Daily Deal',\n",
       "  'Wrap of the day: The BBQ & Bacon Chicken One (Crispy)',\n",
       "  'Small Fanta® Orange',\n",
       "  'Cheeseburger'],\n",
       " 'Order Time': ['2024-05-30 16:54:46 +0000 UTC',\n",
       "  '2024-05-30 16:54:46 +0000 UTC',\n",
       "  '2024-05-30 16:54:46 +0000 UTC',\n",
       "  '2024-05-29 12:44:30 +0000 UTC',\n",
       "  '2024-05-29 12:44:30 +0000 UTC',\n",
       "  '2024-05-10 13:12:52 +0000 UTC',\n",
       "  '2024-05-10 13:12:52 +0000 UTC',\n",
       "  '2024-05-02 13:46:50 +0000 UTC',\n",
       "  '2024-05-02 13:46:50 +0000 UTC',\n",
       "  '2024-04-29 13:29:07 +0000 UTC',\n",
       "  '2024-04-29 13:29:07 +0000 UTC',\n",
       "  '2024-03-29 16:34:30 +0000 UTC',\n",
       "  '2024-03-29 16:34:30 +0000 UTC',\n",
       "  '2024-03-16 16:56:56 +0000 UTC',\n",
       "  '2024-03-16 16:56:56 +0000 UTC',\n",
       "  '2024-02-20 15:58:11 +0000 UTC',\n",
       "  '2024-02-20 15:58:11 +0000 UTC',\n",
       "  '2024-02-19 13:49:41 +0000 UTC',\n",
       "  '2024-02-19 13:49:41 +0000 UTC',\n",
       "  '2024-01-26 14:55:44 +0000 UTC',\n",
       "  '2024-01-26 14:55:44 +0000 UTC',\n",
       "  '2024-01-26 14:55:44 +0000 UTC',\n",
       "  '2024-01-17 14:49:36 +0000 UTC',\n",
       "  '2024-01-17 14:49:36 +0000 UTC',\n",
       "  '2024-01-17 14:49:36 +0000 UTC',\n",
       "  '2024-01-09 14:38:14 +0000 UTC',\n",
       "  '2024-01-09 14:38:14 +0000 UTC',\n",
       "  '2024-01-09 14:38:14 +0000 UTC',\n",
       "  '2023-12-15 17:09:38 +0000 UTC',\n",
       "  '2023-12-15 17:09:38 +0000 UTC',\n",
       "  '2023-12-15 17:09:38 +0000 UTC',\n",
       "  '2023-12-08 16:17:26 +0000 UTC',\n",
       "  '2023-12-08 16:17:26 +0000 UTC',\n",
       "  '2023-12-06 12:36:37 +0000 UTC',\n",
       "  '2023-12-06 12:36:37 +0000 UTC',\n",
       "  '2023-12-04 16:49:46 +0000 UTC',\n",
       "  '2023-12-04 16:49:46 +0000 UTC',\n",
       "  '2023-12-02 14:01:10 +0000 UTC',\n",
       "  '2023-11-29 15:54:43 +0000 UTC',\n",
       "  '2023-11-28 14:01:07 +0000 UTC',\n",
       "  '2023-11-28 14:01:07 +0000 UTC',\n",
       "  '2023-11-25 14:52:22 +0000 UTC',\n",
       "  '2023-11-25 14:52:22 +0000 UTC',\n",
       "  '2023-11-24 16:44:08 +0000 UTC',\n",
       "  '2023-11-24 20:27:22 +0000 UTC',\n",
       "  '2023-11-24 20:27:22 +0000 UTC',\n",
       "  '2023-11-24 20:27:22 +0000 UTC',\n",
       "  '2023-11-24 20:27:22 +0000 UTC',\n",
       "  '2023-11-23 19:58:38 +0000 UTC',\n",
       "  '2023-11-23 19:58:38 +0000 UTC',\n",
       "  '2023-11-23 19:58:38 +0000 UTC',\n",
       "  '2023-11-23 19:58:38 +0000 UTC',\n",
       "  '2023-11-21 13:29:33 +0000 UTC',\n",
       "  '2023-11-21 13:29:33 +0000 UTC',\n",
       "  '2023-11-19 14:54:30 +0000 UTC',\n",
       "  '2023-11-19 14:54:30 +0000 UTC',\n",
       "  '2023-11-17 14:08:39 +0000 UTC',\n",
       "  '2023-11-17 14:08:39 +0000 UTC',\n",
       "  '2023-11-11 11:35:20 +0000 UTC',\n",
       "  '2023-11-11 11:35:20 +0000 UTC',\n",
       "  '2023-11-11 11:35:20 +0000 UTC',\n",
       "  '2023-11-07 16:49:01 +0000 UTC',\n",
       "  '2023-11-07 16:49:01 +0000 UTC',\n",
       "  '2023-10-23 19:16:00 +0000 UTC',\n",
       "  '2023-10-23 19:16:00 +0000 UTC',\n",
       "  '2023-10-23 19:16:00 +0000 UTC',\n",
       "  '2023-10-13 13:06:32 +0000 UTC',\n",
       "  '2023-10-13 13:06:32 +0000 UTC',\n",
       "  '2023-02-20 20:34:15 +0000 UTC',\n",
       "  '2023-02-20 20:34:15 +0000 UTC',\n",
       "  '2023-01-13 16:54:19 +0000 UTC',\n",
       "  '2023-01-13 16:54:19 +0000 UTC',\n",
       "  '2023-01-13 16:54:19 +0000 UTC',\n",
       "  '2023-01-13 16:54:19 +0000 UTC',\n",
       "  '2023-01-13 16:54:19 +0000 UTC',\n",
       "  '2022-12-13 21:09:17 +0000 UTC',\n",
       "  '2022-12-13 21:09:17 +0000 UTC',\n",
       "  '2022-12-13 21:09:17 +0000 UTC',\n",
       "  '2022-12-13 21:09:17 +0000 UTC',\n",
       "  '2022-11-30 14:15:28 +0000 UTC',\n",
       "  '2022-11-30 14:15:28 +0000 UTC',\n",
       "  '2022-11-30 14:15:28 +0000 UTC',\n",
       "  '2022-11-30 14:15:28 +0000 UTC',\n",
       "  '2022-11-17 13:47:13 +0000 UTC',\n",
       "  '2022-11-17 13:47:13 +0000 UTC',\n",
       "  '2022-10-29 21:20:42 +0000 UTC',\n",
       "  '2022-06-28 00:57:37 +0000 UTC',\n",
       "  '2022-06-28 00:57:37 +0000 UTC',\n",
       "  '2022-06-28 00:57:37 +0000 UTC']}"
      ]
     },
     "execution_count": 6,
     "metadata": {},
     "output_type": "execute_result"
    }
   ],
   "source": [
    "new_data.eater_data"
   ]
  },
  {
   "cell_type": "code",
   "execution_count": 4,
   "metadata": {},
   "outputs": [
    {
     "name": "stdout",
     "output_type": "stream",
     "text": [
      "['2024-05-30 16:54:46 +0000 UTC', '2024-05-30 16:54:46 +0000 UTC', '2024-05-30 16:54:46 +0000 UTC', '2024-05-29 12:44:30 +0000 UTC', '2024-05-29 12:44:30 +0000 UTC', '2024-05-10 13:12:52 +0000 UTC', '2024-05-10 13:12:52 +0000 UTC', '2024-05-02 13:46:50 +0000 UTC', '2024-05-02 13:46:50 +0000 UTC', '2024-04-29 13:29:07 +0000 UTC', '2024-04-29 13:29:07 +0000 UTC', '2024-03-29 16:34:30 +0000 UTC', '2024-03-29 16:34:30 +0000 UTC', '2024-03-16 16:56:56 +0000 UTC', '2024-03-16 16:56:56 +0000 UTC', '2024-02-20 15:58:11 +0000 UTC', '2024-02-20 15:58:11 +0000 UTC', '2024-02-19 13:49:41 +0000 UTC', '2024-02-19 13:49:41 +0000 UTC', '2024-01-26 14:55:44 +0000 UTC', '2024-01-26 14:55:44 +0000 UTC', '2024-01-26 14:55:44 +0000 UTC', '2024-01-17 14:49:36 +0000 UTC', '2024-01-17 14:49:36 +0000 UTC', '2024-01-17 14:49:36 +0000 UTC', '2024-01-09 14:38:14 +0000 UTC', '2024-01-09 14:38:14 +0000 UTC', '2024-01-09 14:38:14 +0000 UTC', '2023-12-15 17:09:38 +0000 UTC', '2023-12-15 17:09:38 +0000 UTC', '2023-12-15 17:09:38 +0000 UTC', '2023-12-08 16:17:26 +0000 UTC', '2023-12-08 16:17:26 +0000 UTC', '2023-12-06 12:36:37 +0000 UTC', '2023-12-06 12:36:37 +0000 UTC', '2023-12-04 16:49:46 +0000 UTC', '2023-12-04 16:49:46 +0000 UTC', '2023-12-02 14:01:10 +0000 UTC', '2023-11-29 15:54:43 +0000 UTC', '2023-11-28 14:01:07 +0000 UTC', '2023-11-28 14:01:07 +0000 UTC', '2023-11-25 14:52:22 +0000 UTC', '2023-11-25 14:52:22 +0000 UTC', '2023-11-24 16:44:08 +0000 UTC', '2023-11-24 20:27:22 +0000 UTC', '2023-11-24 20:27:22 +0000 UTC', '2023-11-24 20:27:22 +0000 UTC', '2023-11-24 20:27:22 +0000 UTC', '2023-11-23 19:58:38 +0000 UTC', '2023-11-23 19:58:38 +0000 UTC', '2023-11-23 19:58:38 +0000 UTC', '2023-11-23 19:58:38 +0000 UTC', '2023-11-21 13:29:33 +0000 UTC', '2023-11-21 13:29:33 +0000 UTC', '2023-11-19 14:54:30 +0000 UTC', '2023-11-19 14:54:30 +0000 UTC', '2023-11-17 14:08:39 +0000 UTC', '2023-11-17 14:08:39 +0000 UTC', '2023-11-11 11:35:20 +0000 UTC', '2023-11-11 11:35:20 +0000 UTC', '2023-11-11 11:35:20 +0000 UTC', '2023-11-07 16:49:01 +0000 UTC', '2023-11-07 16:49:01 +0000 UTC', '2023-10-23 19:16:00 +0000 UTC', '2023-10-23 19:16:00 +0000 UTC', '2023-10-23 19:16:00 +0000 UTC', '2023-10-13 13:06:32 +0000 UTC', '2023-10-13 13:06:32 +0000 UTC', '2023-02-20 20:34:15 +0000 UTC', '2023-02-20 20:34:15 +0000 UTC', '2023-01-13 16:54:19 +0000 UTC', '2023-01-13 16:54:19 +0000 UTC', '2023-01-13 16:54:19 +0000 UTC', '2023-01-13 16:54:19 +0000 UTC', '2023-01-13 16:54:19 +0000 UTC', '2022-12-13 21:09:17 +0000 UTC', '2022-12-13 21:09:17 +0000 UTC', '2022-12-13 21:09:17 +0000 UTC', '2022-12-13 21:09:17 +0000 UTC', '2022-11-30 14:15:28 +0000 UTC', '2022-11-30 14:15:28 +0000 UTC', '2022-11-30 14:15:28 +0000 UTC', '2022-11-30 14:15:28 +0000 UTC', '2022-11-17 13:47:13 +0000 UTC', '2022-11-17 13:47:13 +0000 UTC', '2022-10-29 21:20:42 +0000 UTC', '2022-06-28 00:57:37 +0000 UTC', '2022-06-28 00:57:37 +0000 UTC', '2022-06-28 00:57:37 +0000 UTC']\n"
     ]
    }
   ],
   "source": [
    "list_of_times = new_data.extract_list_from_data(raw_data, 'Order Time')\n",
    "print(list_of_times)"
   ]
  },
  {
   "cell_type": "code",
   "execution_count": 6,
   "metadata": {},
   "outputs": [],
   "source": [
    "list_of_days = new_data.simplify_date_list(list_of_times, '%A')"
   ]
  },
  {
   "cell_type": "code",
   "execution_count": 8,
   "metadata": {},
   "outputs": [
    {
     "name": "stdout",
     "output_type": "stream",
     "text": [
      "['Friday', 'Wednesday', 'Sunday', 'Monday', 'Thursday', 'Tuesday', 'Saturday']\n"
     ]
    }
   ],
   "source": [
    "unique_list = list(set(list_of_days))\n",
    "print(unique_list)"
   ]
  },
  {
   "cell_type": "code",
   "execution_count": 9,
   "metadata": {},
   "outputs": [
    {
     "name": "stdout",
     "output_type": "stream",
     "text": [
      "['Monday', 'Tuesday', 'Wednesday', 'Thursday', 'Friday', 'Saturday', 'Sunday']\n"
     ]
    }
   ],
   "source": [
    "unique_list_of_days_sorted = new_data.sort_days(unique_list)\n",
    "print(unique_list_of_days_sorted)"
   ]
  },
  {
   "cell_type": "code",
   "execution_count": 10,
   "metadata": {},
   "outputs": [
    {
     "name": "stdout",
     "output_type": "stream",
     "text": [
      "[11, 18, 12, 11, 26, 9, 2]\n",
      "[11, 18, 12, 11, 26, 9, 2]\n"
     ]
    }
   ],
   "source": [
    "count_of_days_list = new_data.create_count_of_days(list_of_days, unique_list_of_days_sorted)\n",
    "print(count_of_days_list)"
   ]
  },
  {
   "cell_type": "code",
   "execution_count": 11,
   "metadata": {},
   "outputs": [
    {
     "data": {
      "text/plain": [
       "<BarContainer object of 7 artists>"
      ]
     },
     "execution_count": 11,
     "metadata": {},
     "output_type": "execute_result"
    },
    {
     "data": {
      "image/png": "[encoded data removed]",
      "text/plain": [
       "<Figure size 640x480 with 1 Axes>"
      ]
     },
     "metadata": {},
     "output_type": "display_data"
    }
   ],
   "source": [
    "new_data.plot_bar_graph(unique_list_of_days_sorted, count_of_days_list)"
   ]
  },
  {
   "cell_type": "code",
   "execution_count": null,
   "metadata": {},
   "outputs": [],
   "source": []
  }
 ],
 "metadata": {
  "kernelspec": {
   "display_name": "Python 3",
   "language": "python",
   "name": "python3"
  },
  "language_info": {
   "codemirror_mode": {
    "name": "ipython",
    "version": 3
   },
   "file_extension": ".py",
   "mimetype": "text/x-python",
   "name": "python",
   "nbconvert_exporter": "python",
   "pygments_lexer": "ipython3",
   "version": "3.11.5"
  }
 },
 "nbformat": 4,
 "nbformat_minor": 2
}
